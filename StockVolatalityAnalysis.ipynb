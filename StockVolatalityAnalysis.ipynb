{
 "cells": [
  {
   "cell_type": "markdown",
   "metadata": {},
   "source": [
    "\n",
    "# Finding the least Volatile Stock\n",
    "\n",
    "## Introduction:\n",
    "\n",
    "Volatility is a statistical measure of the dispersion of returns for a given stock or market index. In most cases, the higher the volatility, the riskier the stock. There are multiple ways to calculate volatility. For the purpose of this project, we will take a look at the following methods: \n",
    "\n",
    "1. **Average True Range and Percentage True Range**\n",
    "2. **Standard Deviation**\n",
    "3. **Beta Coefficient**\n",
    "\n",
    "## Data\n",
    "\n",
    "The data used in the project is as follows: \n",
    "\n",
    "1. AlphaAdvantage Stock API: \n",
    "<br>About: Alpha Vantage provides enterprise-grade financial market data through a set of powerful and developer-friendly APIs. \n",
    "<br>Reasoning: We have used this data to get Intraday price values, getting latest day price.\n",
    "<br>Format: **JSON**\n",
    "<br>Source: https://www.alphavantage.co/\n",
    "\n",
    "2. NASDAQ and NYSE Daily Stock Data:\n",
    "<br>About: The data contains Date, Volume, High, Low, and Closing Price (for all NASDAQ and NYSE listed companies). Updated weekly. **For the purpose of the project, we will only take data of Apple, Facebook, Amazon, AMC, and American Airlines.**\n",
    "<br>Reasoning: We have used this data to get historical daily prices of each stock.\n",
    "<br>Format: **CSV**\n",
    "<br>Source: https://www.kaggle.com/paultimothymooney/stock-market-data/version/41\n",
    "\n",
    "3. S&P 500 Index Data:\n",
    "<br>About: The data contains dates and prices of S&P500 index since 2006 to present day.\n",
    "<br>Reasoning: We have used S&P 500 as a benchmark to compare stocks with overall S&P500 market. It will be used to calculate Beta of the stock.\n",
    "<br>Format: **CSV**\n",
    "<br>Source: https://www.investing.com/indices/us-spx-500-historical-data\n",
    "\n",
    "## Summary of Functions Used in The Project: \n",
    "\n",
    "\n",
    "1. **errorHandleMain(stockListMain, start, stop):** The function takes all the global variables and checks if they are compatible for the rest of code.\n",
    "\n",
    "2. **errorHandleStockCode(stockCode):** checks the stockCode variable passed to each function and makes sure it is present in our main StockList\n",
    "\n",
    "3. **getData(stockList, timeType):** The function takes a list of stock and the time period and calls the API to access data for stock in the list. It returns a dictonary where keys are stock codes and values are their respective dataframes.\n",
    "\n",
    "4. **ATR(stockCode):** The ATR function takes in a stock code, and returns the average true range of the stock. Uses data that is returned from getData function. \n",
    "\n",
    "5. **PVM(stockCode):** The function returns the Percentage Volatility Measure for the stock. It is used over ATR since it is a more standardized measure of volatility.\n",
    "\n",
    "6. **stockStd(stockCode, start, stop):** The function returns the Standard Deviation of Stock Prices over a certain period of time. \n",
    "\n",
    "7. **sandpComp(stockCode, start, stop):** This function takes a stock code and a particular time period and then returns a dataframe with the closing prices of the stock with the respective closing prices of S&P500 index. \n",
    "\n",
    "8. **Beta(stockCode, start, stop):** This function takes the time period and stock code and returns the Beta Coefficient of the stock. \n",
    "\n",
    "9. **dailyV(stockCode):** This function take a particular stock code and returns number of Increases and Decreases of The Stock's Price in a single day.\n",
    "\n",
    "10. **timePeriodV(stockCode, start, stop):** This function take a particular stock code and returns number of Increases and Decreases of The Stock's Price in the Specified Time Period.\n",
    "\n",
    "11. **priceGraph(stockCode, start, stop):** This function takes a stock code, start and end time and returns the growth graph of the stock over the time period.\n",
    "\n",
    "12. **getAveragePrice(stockCode, start, stop):** This function takes the stock code and start and end time and gives us the average stock price over the time period.\n",
    "\n",
    "13. **createTable(stockCList, start, stop):** This function takes the stockList, start and end time and creates a summary table for the user.\n",
    "\n",
    "\n",
    "## Stocks Being Evaluated \n",
    "### (could be changed to include more or other stocks depending on user input)\n",
    "1. **Apple (AAPL)** because it is known to be a good stock\n",
    "2. **Amazon (AMZN)** also because it is known to be a good stock\n",
    "3. **American Airlines (AAL)** because we dislike their flight quality\n",
    "4. **AMC (AMC)** because we thought the stock would be very volatile \n",
    "5. **Facebook (FB)** because their stock has been trending down\n",
    "\n",
    "## Sources of Data\n",
    "https://www.investopedia.com/terms/s/standarddeviation.asp\n",
    "\n",
    "https://www.investopedia.com/terms/b/beta.asp\n",
    "\n",
    "https://www.investopedia.com/terms/v/volatility.asp\n",
    "\n",
    "https://www.investopedia.com/terms/g/growthrates.asp\n"
   ]
  },
  {
   "cell_type": "markdown",
   "metadata": {},
   "source": [
    "## Importing the CSV Data"
   ]
  },
  {
   "cell_type": "code",
   "execution_count": 149,
   "metadata": {},
   "outputs": [],
   "source": [
    "import requests\n",
    "import pandas as pd\n",
    "import statistics\n",
    "import requests\n",
    "from datetime import datetime, timedelta\n",
    "from matplotlib import pyplot as plt\n",
    "from matplotlib import dates as mpl_dates\n",
    "\n",
    "\n",
    "#Importing CSV stock data of the stocks we are going to analyze and create a new column called code\n",
    "apple = pd.read_csv('aapl.csv')\n",
    "apple[\"Code\"] = \"AAPL\"\n",
    "\n",
    "americanAir = pd.read_csv('aal.csv')\n",
    "americanAir[\"Code\"] = \"AAL\"\n",
    "\n",
    "amazon = pd.read_csv('amzn.csv')\n",
    "amazon[\"Code\"] = \"AMZN\"\n",
    "\n",
    "amc = pd.read_csv('amc.csv')\n",
    "amc[\"Code\"] = \"AMC\"\n",
    "\n",
    "fb = pd.read_csv('FB.csv')\n",
    "fb[\"Code\"] = \"FB\"\n",
    "\n",
    "blue = pd.read_csv('BLUE.csv')\n",
    "blue[\"Code\"] = \"Blue\"\n",
    "\n",
    "#Import S&P 500 (Daily Dates since 10/20/2016)\n",
    "sandp = pd.read_csv('sp500.csv')"
   ]
  },
  {
   "cell_type": "markdown",
   "metadata": {},
   "source": [
    "## Getting user data and setting them as global variables\n",
    "These variables will be casted to our future functions and used throughout the project"
   ]
  },
  {
   "cell_type": "code",
   "execution_count": 146,
   "metadata": {},
   "outputs": [],
   "source": [
    "startDateMain = \"10-17-2018\" # program will collect collect data over the past 3 years \n",
    "stopDateMain = \"10-17-2021\"\n",
    "stockListMain = [\"AAPL\",\"AAL\",\"AMZN\", \"AMC\", \"FB\"]"
   ]
  },
  {
   "cell_type": "markdown",
   "metadata": {},
   "source": [
    "## Error Handling\n",
    "Fucntions to be used to make sure the rest of the code will run as intended"
   ]
  },
  {
   "cell_type": "code",
   "execution_count": 147,
   "metadata": {},
   "outputs": [],
   "source": [
    "stockListTry = [\"AAPL\"]\n",
    "startDateTry = \"01\"\n",
    "stopDateTry = \"01-30-2021\"\n",
    "def errorHandleMain(stockListMain, start, stop):\n",
    "\n",
    "    \"\"\"\n",
    "    What it does : checks the global variables and makes sure they will be compatible with the data\n",
    "    Inputs:\n",
    "        All the global variables we have, stockListMain, start, and stop  \n",
    "    Outputs:\n",
    "        Returns 1 if it passes the tests\n",
    "        Returns 0 if it doesn't\n",
    "    \"\"\"\n",
    "   \n",
    "    startDateBool = True\n",
    "    try:\n",
    "        startDate = pd.to_datetime(start)\n",
    "    except ValueError:\n",
    "        startDateBool = False\n",
    "       \n",
    "    stopDateBool = True\n",
    "    try:\n",
    "        stopDate = pd.to_datetime(stop)\n",
    "    except ValueError:\n",
    "        startDateBool = False\n",
    "   \n",
    "   \n",
    "    if stockListMain == []:\n",
    "        print(\"Stock List is Empty\")\n",
    "        return 0\n",
    "   \n",
    "    if startDateBool == False:\n",
    "        print(\"invalid start date\")\n",
    "        return 0\n",
    "    if stopDateBool == False:\n",
    "        print(\"invalid end date\")\n",
    "        return 0\n",
    "   \n",
    "    return 1\n",
    "\n",
    "def errorHandleStockCode(stockCode):\n",
    "    \"\"\"\n",
    "    What it does : checks the stockCode variable passed to each function and makes sure it is present in our main StockList\n",
    "    Inputs:\n",
    "        The stock code        \n",
    "    Outputs:\n",
    "        Returns 1 if it passes the tests\n",
    "        Returns 0 if it doesn't\n",
    "   \n",
    "    \"\"\"\n",
    "   \n",
    "    if stockCode not in stockListMain:\n",
    "        print(\"invalid stockCode\")\n",
    "        return 0\n",
    "    else:\n",
    "        return 1"
   ]
  },
  {
   "cell_type": "code",
   "execution_count": 148,
   "metadata": {},
   "outputs": [
    {
     "name": "stdout",
     "output_type": "stream",
     "text": [
      "invalid start date\n",
      "Stock List is Empty\n"
     ]
    }
   ],
   "source": [
    "assert errorHandleMain([\"AAPL\"], \"01\",  \"01-30-2021\") == 0\n",
    "assert errorHandleMain([], \"01\",  \"01-30-2021\") == 0\n",
    "assert errorHandleMain([\"AAPL\"], \"01-30-2020\",  \"01-30-2021\") == 1"
   ]
  },
  {
   "cell_type": "markdown",
   "metadata": {},
   "source": [
    "## Calling API, Fixing it and Importing Data in a Combined Dictonary\n",
    "The alphaadvantage API that we are using is a free version and only allows 5 calls every minute and 500 call."
   ]
  },
  {
   "cell_type": "code",
   "execution_count": 74,
   "metadata": {},
   "outputs": [],
   "source": [
    "import time\n",
    "\n",
    "def getData(stockList, timeType):\n",
    "    \"\"\"\n",
    "    What it does: \n",
    "        Because our API only allowed 5 calls per minute, we had to reevaluate the way we were getting our data from the API.\n",
    "        Our solution was to make this function, which takes in a list of stocks and the requested time period, and gets the data \n",
    "        for all the stocks in the list from the API, and returns it to a dictionary with stock code as the keys and \n",
    "        the retrieved stock data as the value. If the stock list was longer than 5, we also coded in a pause, where the code\n",
    "        would wait 60 seconds before calling the API again.\n",
    "        \n",
    "    Inputs:\n",
    "        Stocklist : the list of stocks for which the data is being retrieved\n",
    "        timeType : either daily (intraday) or over 3 weeks\n",
    "        \n",
    "    Returns:\n",
    "        Dictionary of stock and data values\n",
    "    \"\"\"\n",
    "    #resetting the api\n",
    "    time.sleep(60)\n",
    "    BigData = {}\n",
    "    stockList.insert(0,'')\n",
    "    for i in range(1, len(stockList)): #iterating through each stock in stock list to get its data and append it to the bigData dict\n",
    "        stock = stockList[i]\n",
    "        apiKey = \"8KUJ36BZP06HRKQR\"\n",
    "        url = 'https://www.alphavantage.co/query?function=' + timeType + '&symbol=' + stock + '&interval=5min&apikey=' + apiKey\n",
    "        r = requests.get(url)\n",
    "        data = r.json()\n",
    "        BigData[stockList[i]] = data \n",
    "        if(i%5 == 0):   #every five stocks in the list the program pauses for a minute to allow API reset\n",
    "            time.sleep(60)\n",
    "    return(BigData)\n",
    "\n",
    "stockDataIntraDay = getData(stockListMain, 'TIME_SERIES_INTRADAY')\n",
    "time.sleep(60)\n",
    "stockDataDaily = getData(stockListMain, 'TIME_SERIES_DAILY_ADJUSTED')"
   ]
  },
  {
   "cell_type": "markdown",
   "metadata": {},
   "source": [
    "## Creating a Combined Dataframe with All Stocks\n",
    "In this next section we create a list of the stocks we are analyzing. This makes it easier to perform opperations on them as a group. \n",
    "<br>We then use the concatenate function to then merge each of the stocks in stock list together. \n",
    "<br>Next, we will make the data tidy by setting our independent variables. We will also add an extra column that analyzes amount increased everyday. "
   ]
  },
  {
   "cell_type": "code",
   "execution_count": 150,
   "metadata": {},
   "outputs": [],
   "source": [
    "#creating a list of each stock we will use, makes certain operations easier to do\n",
    "stockList = [apple, americanAir, amazon, amc, fb]\n",
    "stockCodeList = [\"AAPL\",\"AAL\",\"AMZN\", \"AMC\", \"FB\"] #\n",
    "\n",
    "stocks = pd.concat(stockList) #merging everything in stockList\n",
    "stocks[\"Date\"] = pd.to_datetime(stocks.Date)\n",
    "\n",
    "stocks = stocks.set_index([\"Code\"])           #setting the indexes of the dataframe to abide by the rules of tidy data\n",
    "\n",
    "stocks = stocks.astype({\"Low\":float, \"Open\":float,\"Volume\":float,\"High\":float,\"Close\":float,\"Adjusted Close\":float})\n",
    "\n",
    "stocks[\"Amount Increased\"] = stocks[\"Close\"] - stocks[\"Open\"]          #adding a column that computes the amount the stock rose or declined by over a day\n"
   ]
  },
  {
   "cell_type": "markdown",
   "metadata": {},
   "source": [
    "# Finding Stock Volatility \n",
    "\n",
    "### 1. True Range, Average True Range and Percentage Average True Range of Stock\n",
    "\n",
    "The average true range (ATR) is a market volatility indicator used in technical analysis. The ATR may be used by market technicians to enter and exit trades, and is a useful tool to add to a trading system. It was created to allow traders to more accurately measure the daily volatility of an asset by using simple calculations. The indicator does not indicate the price direction; rather it is used primarily to measure volatility caused by gaps and limit up or down moves. \n",
    "\n",
    "\n",
    "![title](atrformula1.png)"
   ]
  },
  {
   "cell_type": "markdown",
   "metadata": {},
   "source": [
    "### Average True Range"
   ]
  },
  {
   "cell_type": "code",
   "execution_count": 151,
   "metadata": {},
   "outputs": [
    {
     "data": {
      "text/plain": [
       "0.7018000000000002"
      ]
     },
     "execution_count": 151,
     "metadata": {},
     "output_type": "execute_result"
    }
   ],
   "source": [
    "import numpy as np \n",
    "\n",
    "\n",
    "def ATR(stockCode):\n",
    "    \"\"\"\n",
    "    Input: The code of the stock. For eg. \"AAPL\"\n",
    "    Output: The average true range of the stock\n",
    "    What the function does: The function ATR finds the True Range over a period of latest 14 days.\n",
    "    True Range = The maximum value of high - low, absolute value of high - previous day close, and aboslute value of low - previous\n",
    "    day close. \n",
    "    We then find the average of true range over a period of 14 days. \n",
    "    \"\"\"\n",
    "\n",
    "    if errorHandleStockCode(stockCode) == 0:\n",
    "        return 0\n",
    "    \n",
    "    data = stockDataDaily[stockCode] #extracting the data from the massive stock-data dictonary\n",
    "    keys = list(data['Time Series (Daily)'].keys()) #getting the keys and typecasting to list so it is iterable\n",
    "    \n",
    "    TrueRange = [] #defining True Range Dictonary\n",
    "    for i in range(1, len(keys[0:15])): #we do it from 0 to 15 because since we use previous price, we will have to disregard high and low of first date\n",
    "        \n",
    "        CurrentHigh = float(data['Time Series (Daily)'][keys[i]]['2. high'])\n",
    "        CurrentLow = float(data['Time Series (Daily)'][keys[i]]['3. low'])\n",
    "        PreviousClose = float(data['Time Series (Daily)'][keys[i-1]]['4. close'])\n",
    "        \n",
    "        HighLow = CurrentHigh - CurrentLow\n",
    "        HighPrevClose = np.abs(CurrentHigh - PreviousClose)\n",
    "        LowPrevClose = np.abs(CurrentLow - PreviousClose)\n",
    "        \n",
    "        TrueRange.append(max([HighLow, HighPrevClose, LowPrevClose]))\n",
    "    ATR = sum(TrueRange)/14\n",
    "    return ATR\n",
    "\n",
    "ATR('AAL')"
   ]
  },
  {
   "cell_type": "code",
   "execution_count": 152,
   "metadata": {},
   "outputs": [],
   "source": [
    "#asserts\n",
    "assert(ATR(\"AAPL\")) == 3.081214285714284\n",
    "assert(ATR(\"AMZN\")) == 75.57664285714284\n",
    "assert(ATR(\"AAL\")) == 0.7018000000000002"
   ]
  },
  {
   "cell_type": "markdown",
   "metadata": {},
   "source": [
    "### Percentage Volatality Measure\n",
    "\n",
    "The disadvantage of using ATR as a measure of volitility is that it is not a good measure to compare different stocks. \n",
    "It is good only if we are comparing the same stock at different time intervals. \n",
    "\n",
    "Therefore, we standardize the ATR by finding the Percentage Volatility Measure (PVM) which is nothing but ATR/Latest price of stock. This allows us to compare different stocks. "
   ]
  },
  {
   "cell_type": "code",
   "execution_count": 160,
   "metadata": {},
   "outputs": [
    {
     "data": {
      "text/plain": [
       "0.07377061855670101"
      ]
     },
     "execution_count": 160,
     "metadata": {},
     "output_type": "execute_result"
    }
   ],
   "source": [
    "def PVM(stockCode):\n",
    "    \"\"\"\n",
    "    Input: Stock Code\n",
    "    Output: Percentage Volatility Measure\n",
    "    Description: The PVM function uses the above ATR function to get the ATR of stockCode. It is then divided by the latest\n",
    "    price of the stockCode stock from the API and return the PVM. \n",
    "    \"\"\"\n",
    "        \n",
    "    if errorHandleStockCode(stockCode) == 0:\n",
    "        return 0\n",
    "    \n",
    "   \n",
    "    \n",
    "    data = stockDataIntraDay[stockCode] #extracting the data\n",
    "    keys = list(data['Time Series (5min)'].keys()) #getting the keys\n",
    "    latestUpdatedPriceTimestamp = (keys[0]) #getting the latest price timestamp\n",
    "    return ATR(stockCode) / float(data['Time Series (5min)'][latestUpdatedPriceTimestamp]['4. close']) #dividing the ATR by latest price\n",
    "\n",
    "PVM(\"AMC\")"
   ]
  },
  {
   "cell_type": "code",
   "execution_count": 161,
   "metadata": {},
   "outputs": [],
   "source": [
    "#asserts\n",
    "assert(PVM(\"AMZN\")) == 0.022098433583959895\n",
    "assert(PVM(\"AAPL\")) == 0.020658493367175887\n",
    "assert(PVM(\"AMC\")) == 0.07377061855670101"
   ]
  },
  {
   "cell_type": "markdown",
   "metadata": {},
   "source": [
    "## 2. Standard Deviation\n",
    "\n",
    "Standard deviation is an especially useful tool in investing and trading strategies as it helps measure market and security volatility—and predict performance trends. As it relates to investing, for example, an index fund is likely to have a low standard deviation versus its benchmark index, as the fund's goal is to replicate the index."
   ]
  },
  {
   "cell_type": "code",
   "execution_count": 162,
   "metadata": {},
   "outputs": [
    {
     "data": {
      "text/plain": [
       "594.928974550193"
      ]
     },
     "execution_count": 162,
     "metadata": {},
     "output_type": "execute_result"
    }
   ],
   "source": [
    "def stockStd(stockCode, start, stop):\n",
    "    '''\n",
    "    What it does: Calculates the volatility index of a stock over a provided time period. \n",
    "    Inputs:\n",
    "        stockCode : the code of the stock to find the volatility of\n",
    "        start : the starting date\n",
    "        stop : the closing date\n",
    "    Returns :\n",
    "        standard Deviation : the standard deviation of the stock\n",
    "    '''\n",
    "        \n",
    "    if errorHandleStockCode(stockCode) == 0:\n",
    "        return 0\n",
    "    \n",
    "\n",
    "    if((start == \" \")|(stop == \" \")):\n",
    "        return 0\n",
    "    #init\n",
    "    startDate = pd.to_datetime(start)\n",
    "    stopDate = pd.to_datetime(stop)\n",
    "    total = 0            # total number of times the stock was measured\n",
    "    positives = 0\n",
    "    negatives = 0\n",
    "    volatility = 0\n",
    "    \n",
    "    data = stocks.loc[(stockCode)] #finding all indexes that match the provided stockcode in the stocks dataframe\n",
    "    data = data.loc[(data.Date >= startDate) & (data.Date <= stopDate)]\n",
    "    \n",
    "    data[\"Dev\"] = 0\n",
    "    data[\"Squared Dev\"] = 0\n",
    "\n",
    "    #calculations\n",
    "    mean = 0\n",
    "    length = len(data[\"Date\"])\n",
    "\n",
    "    #calculating the mean\n",
    "    for rowLabel, rowSeries in data.iterrows():\n",
    "        total += rowSeries[\"Close\"]\n",
    "\n",
    "    mean = total/length\n",
    "\n",
    "    x = 0 \n",
    "  \n",
    "    #calculating the deviation of each value\n",
    "    for rowLabel, rowSeries in data.iterrows():\n",
    "        rowSeries[\"Dev\"] = rowSeries[\"Close\"] - mean\n",
    "        rowSeries[\"Squared Dev\"] = ((rowSeries[\"Dev\"])**2) #squaring the deviations\n",
    "        x += rowSeries[\"Squared Dev\"]     #adding up all the squared deviations\n",
    "       \n",
    "    variance = x/length\n",
    "    volatility = (variance ** (1/2))\n",
    "    return volatility\n",
    "stockStd(\"AMZN\", startDateMain, stopDateMain)"
   ]
  },
  {
   "cell_type": "code",
   "execution_count": 163,
   "metadata": {},
   "outputs": [],
   "source": [
    "#asserts\n",
    "assert stockStd(\"AAPL\", startDateMain, stopDateMain) == 27.611929634020115\n",
    "assert stockStd(\"AMZN\", startDateMain, stopDateMain) == 594.928974550193"
   ]
  },
  {
   "cell_type": "markdown",
   "metadata": {},
   "source": [
    "## 3. Beta Coefficient (Comparision with S&P 500)\n",
    "\n",
    "Beta is a measure of a stock's volatility in relation to the overall market. By definition, the market, such as the S&P 500 Index, has a beta of 1.0, and individual stocks are ranked according to how much they deviate from the market.\n",
    "\n",
    "A stock that swings more than the market over time has a beta above 1.0. If a stock moves less than the market, the stock's beta is less than 1.0. High-beta stocks are supposed to be riskier but provide higher return potential; low-beta stocks pose less risk but also lower returns.\n",
    "\n",
    "There are two methods available to measure a stock’s beta. Both are expected to result in the same numerical outcome.\n",
    "\n",
    "1. **Beta = Covariance / Variance:**\n",
    "<br>Where covariance is the stock’s return relative to the market's return. Variance shows how the stock moves in relation to the market. We used covariance to determine if the market and American Express moved in the same direction today. Variance would see if American Express and the market moved the same amount. If the market went up 0.5% today, did American Express also go up 0.5%? Or did it go up by less than 0.5% or by more than 0.5%?\n",
    "\n",
    "2. **Beta: y= a + (b*x):**\n",
    "<br>Another way to calculate beta is to use a linear regression formula. Where beta is the coefficient of the independent variable (x in the equation), y is the dependent variable, a is the y-intercept or constant, and b is the slope of the line.\n",
    "\n",
    "#### Since both measurements provide us with the same answer, this project will outline how to use the regression formula y = a + (b * x) where x is the beta.\n"
   ]
  },
  {
   "cell_type": "code",
   "execution_count": 358,
   "metadata": {},
   "outputs": [],
   "source": [
    "import numpy as np\n",
    "from sklearn.linear_model import LinearRegression\n",
    "sandp[\"Date\"] = pd.to_datetime(sandp.Date)\n",
    "\n",
    "def sandpComp(stockCode, start, stop):\n",
    "    \n",
    "        \n",
    "    if errorHandleStockCode(stockCode) == 0:\n",
    "        return 0\n",
    "    \n",
    "    \"\"\"\n",
    "    \n",
    "    Input: Stock Code, Start Date and Stop Date over which the user wants the data\n",
    "    Output: Dataframe with the Closing prices of stock and its respective S&P 500 Closing Price\n",
    "    What it does: The data extracts closing prices from both data frames and appends it to the new one\n",
    "    \"\"\"\n",
    "    \n",
    "    startDate = pd.to_datetime(start) #converting data to pandas data\n",
    "    stopDate = pd.to_datetime(stop)    \n",
    "    data = stocks.loc[(stockCode)] #finding all indexes that match the provided stockcode in the stocks dataframe\n",
    "    data = data.loc[(data.Date >= startDate) & (data.Date <= stopDate)]\n",
    "   \n",
    "    stockDates = []\n",
    "    stockClosings = []\n",
    "    sandpDates = []\n",
    "    sandpClosings = []\n",
    "    for row, rowSeries in data.iterrows():\n",
    "        stockDates.append(rowSeries[\"Date\"])\n",
    "        stockClosings.append(rowSeries[\"Close\"])\n",
    "       \n",
    "    for row, rowSeries in sandp.iterrows():\n",
    "        sandpDates.append(rowSeries[\"Date\"])\n",
    "        sandpClosings.append(rowSeries[\"Price\"])\n",
    "   \n",
    "   \n",
    "    stockDf = pd.DataFrame({\"Date\" : stockDates, \"Stock Price\" : stockClosings})\n",
    "    sandpDf = pd.DataFrame({\"Date\" : sandpDates, \"SandP Price\" : sandpClosings})\n",
    "   \n",
    "   \n",
    "    combDf = pd.merge(stockDf, sandpDf, on = \"Date\", how = \"inner\")\n",
    "    combDf.sort_values(by='Date',ascending=False)\n",
    "    return combDf"
   ]
  },
  {
   "cell_type": "code",
   "execution_count": 349,
   "metadata": {},
   "outputs": [
    {
     "data": {
      "text/plain": [
       "0.1495356742792445"
      ]
     },
     "execution_count": 349,
     "metadata": {},
     "output_type": "execute_result"
    }
   ],
   "source": [
    "def Beta(stockCode, start, stop):\n",
    "    \n",
    "    \"\"\"\n",
    "    Input: Stock Code, Start Date and Stop Date over which the user wants the data\n",
    "    Output: Beta Coefficient\n",
    "    Description: \n",
    "        1. First, the function cleans up the data by removing NA values and converting Closing prices to float\n",
    "        2. Next, we create 2 lists that input take the difference of the current day's close and previous day's close and divide it\n",
    "        by the previous day's close. This formula standardises the difference so we can compare both the stock and S&P 500.\n",
    "        3. Create a Dataframe of the standardized data. \n",
    "        4. Creating the Regression\n",
    "    \"\"\"\n",
    "    \n",
    "        \n",
    "    if errorHandleStockCode(stockCode) == 0:\n",
    "        return 0\n",
    "    \n",
    "    combData = sandpComp(stockCode, start, stop) #Importing the Data\n",
    "    \n",
    "    #Cleaning the Data\n",
    "    combData.dropna()\n",
    "    combData = combData.replace(',','', regex=True)\n",
    "    \n",
    "    #Appending Standardized Data\n",
    "    stdStock = []\n",
    "    stdSP = []\n",
    "    for i in range(1, len(combData['Stock Price'])):\n",
    "        stdStock.append((combData['Stock Price'][i] - combData['Stock Price'][i-1])/combData['Stock Price'][i-1])\n",
    "        stdSP.append((float(combData['SandP Price'][i]) - float(combData['SandP Price'][i-1]))/float(combData['SandP Price'][i-1]))\n",
    "\n",
    "    \n",
    "    #Creating a dataframe of the standardized data\n",
    "    combData = combData.loc[1::] #we ignore the first one because we have taken the previous close in consideration so we will have one empty value which we have to disregard\n",
    "    combData['Stock Price'] = stdStock\n",
    "    combData['SandP Price'] = stdSP\n",
    "\n",
    "    #Creating The Model\n",
    "    #Creating the numpy lists and applying to the regression\n",
    "    x = np.array(combData['Stock Price']).reshape((-1,1))\n",
    "    y = np.array(combData['SandP Price'])\n",
    "    model = LinearRegression().fit(x, y)\n",
    "    arrayVal = model.coef_[0]\n",
    "    return(arrayVal)\n",
    "\n",
    "Beta(\"AMZN\", startDateMain, stopDateMain)"
   ]
  },
  {
   "cell_type": "code",
   "execution_count": 348,
   "metadata": {},
   "outputs": [],
   "source": [
    "#asserts\n",
    "assert(Beta(\"AAPL\", startDateMain, stopDateMain)) == 0.13007876885724445\n",
    "assert(Beta(\"AMZN\", startDateMain, stopDateMain)) == 0.1495356742792445"
   ]
  },
  {
   "cell_type": "markdown",
   "metadata": {},
   "source": [
    "### Getting the Number of Increases and Decreases in the Stock's Price Over a Single Day\n",
    "Calculated by using data consisting of 5 minute interval measures of several stock statistics"
   ]
  },
  {
   "cell_type": "code",
   "execution_count": 353,
   "metadata": {},
   "outputs": [
    {
     "name": "stdout",
     "output_type": "stream",
     "text": [
      "['AMZN', 55, 45, 10]\n"
     ]
    }
   ],
   "source": [
    "def dailyV(stockCode):\n",
    "    \"\"\"\n",
    "    What it does: Finds the most recent day of collected data and gathers data on the stock over 5 minute intervals throughout\n",
    "                  that day. This is so that we can measure how volatile the stock is during a daily period. \n",
    "    \n",
    "    Inputs:\n",
    "        stockCode : the stock being analyzed\n",
    "        \n",
    "    Outputs:\n",
    "        stockCode\n",
    "        positives : number of times stock increased during the day\n",
    "        negatives : number of times the stock decreased during the day\n",
    "        diff : the difference between positives and negatives\n",
    "    \n",
    "    \"\"\"\n",
    "        \n",
    "    if errorHandleStockCode(stockCode) == 0:\n",
    "        return 0\n",
    "    \n",
    "\n",
    "    data = stockDataIntraDay[stockCode]\n",
    "    rangeList = []\n",
    "    keys = list(data['Time Series (5min)'].keys())\n",
    "        \n",
    "    positives = 0 #number of times stock increased\n",
    "    negatives = 0 #number of times stock decreased\n",
    "        \n",
    "    for i in keys: \n",
    "        openVal = float(data['Time Series (5min)'][i]['1. open']) \n",
    "        closeVal = float(data['Time Series (5min)'][i]['4. close'])\n",
    "            \n",
    "        if openVal > closeVal:\n",
    "            negatives +=1\n",
    "        else :\n",
    "            positives +=1              \n",
    "            \n",
    "    diff = positives - negatives \n",
    "    returnList = [stockCode, positives, negatives, diff]\n",
    "    \n",
    "    return(returnList)\n",
    "print(dailyV(\"AMZN\"))"
   ]
  },
  {
   "cell_type": "code",
   "execution_count": 354,
   "metadata": {},
   "outputs": [],
   "source": [
    "#asserts\n",
    "assert(dailyV(\"AAL\")) == ['AAL', 59, 41, 18]\n",
    "assert(dailyV(\"AMZN\")) == ['AMZN', 55, 45, 10]"
   ]
  },
  {
   "cell_type": "markdown",
   "metadata": {},
   "source": [
    "### Getting the Number of Increases and Decreases of The Stock's Price in the Specified Time Period "
   ]
  },
  {
   "cell_type": "code",
   "execution_count": 361,
   "metadata": {},
   "outputs": [
    {
     "name": "stdout",
     "output_type": "stream",
     "text": [
      "invalid stockCode\n"
     ]
    }
   ],
   "source": [
    "def timePeriodV(stockCode, start, stop):\n",
    "    \n",
    "    \"\"\"\n",
    "    What it does: Measures how many times the stock increased and how many times it decreased over the given time period\n",
    "    Inputs:\n",
    "        stockCode : the stock being analyzed\n",
    "       \n",
    "    Outputs:\n",
    "        stockCode\n",
    "        positives : number of times stock increased during the day\n",
    "        negatives : number of times the stock decreased during the day\n",
    "        diff : the difference between positives and negatives\n",
    "   \n",
    "    \"\"\"\n",
    "        \n",
    "    if errorHandleStockCode(stockCode) == 0:\n",
    "        return 0\n",
    "    \n",
    "    if((start == \" \")|(stop == \" \")):\n",
    "        return 0\n",
    "    #init\n",
    "    startDate = pd.to_datetime(start)\n",
    "    stopDate = pd.to_datetime(stop)\n",
    "    total = 0            # total number of times the stock was measured\n",
    "    positives = 0\n",
    "    negatives = 0\n",
    "    volatility = 0\n",
    "    \n",
    "    differenceList = []                 #list of all the increases/decreases over a day in the given time period\n",
    "    difference = 0\n",
    "    \n",
    "    data = stocks.loc[(stockCode)] #finding all indexes that match the provided stockcode in the stocks dataframe\n",
    "    data = data.loc[(data.Date >= startDate) & (data.Date <= stopDate)]\n",
    "   \n",
    "\n",
    "    #calculations\n",
    "    for rowLabel, rowSeries in data.iterrows():\n",
    "        total +=1                             #number of times the stock was measured during the period\n",
    "        difference = rowSeries[\"Amount Increased\"]\n",
    "        differenceList.append(difference)\n",
    "        if rowSeries[\"Amount Increased\"] >=0: #if the stock rose over the day\n",
    "            positives +=1\n",
    "        else:\n",
    "            negatives +=1 # if the stock declined by the end of the day\n",
    "    \n",
    "    \n",
    "    #finding the average increase of decrease in the given time period\n",
    "    x = 0 \n",
    "    for i in differenceList:\n",
    "        x += i \n",
    "    \n",
    "    avDiffOverall = x/len(differenceList)\n",
    "        \n",
    "    volatility = positives-negatives\n",
    "    \n",
    "    \n",
    "    returnList = [stockCode, avDiffOverall, positives,negatives, volatility]\n",
    "    return returnList\n",
    "\n",
    "assert timePeriodV(\"pen\",\"01-01-2019\", \"07-01-2019\") == 0\n"
   ]
  },
  {
   "cell_type": "code",
   "execution_count": 168,
   "metadata": {},
   "outputs": [
    {
     "name": "stdout",
     "output_type": "stream",
     "text": [
      "invalid stockCode\n"
     ]
    }
   ],
   "source": [
    "#asserts\n",
    "assert timePeriodV(\"AAL\", \"01-01-2019\",\" \") == 0\n",
    "assert timePeriodV(\"pen\",\"01-01-2019\", \"07-01-2019\") == 0\n",
    "assert timePeriodV(\"AMZN\", \"01-01-2019\",\"07-01-2019\") == ['AMZN', 0.7701691658266202, 64, 60, 4]"
   ]
  },
  {
   "cell_type": "markdown",
   "metadata": {},
   "source": [
    "## Graphs of Each Stock's Price"
   ]
  },
  {
   "cell_type": "code",
   "execution_count": 171,
   "metadata": {},
   "outputs": [],
   "source": [
    "def priceGraph(stockCode, start, stop):\n",
    "    \"\"\"\n",
    "    What it does: \n",
    "        Creates a graph of the closing price of a stock\n",
    "        \n",
    "    Inputs: \n",
    "        stockCode : the code of the stock to find the volatility of\n",
    "        start : the starting date\n",
    "        stop : the closing date\n",
    "        \n",
    "    Outputs:\n",
    "        Void    \n",
    "    \"\"\"\n",
    "    \n",
    "    startDate = start\n",
    "    stopDate = stop\n",
    "    data = stocks.loc[(stockCode)] #finding all indexes that match the provided stockcode in the stocks dataframe\n",
    "    data = data.loc[(data.Date >= startDate) & (data.Date <= stopDate)]\n",
    "    \n",
    "    dates = data[\"Date\"] \n",
    "    dates = sorted(dates) #the sorted command will sort the date time data\n",
    "    prices = data[\"Close\"]\n",
    "    \n",
    "    plt.plot_date(dates, prices, linestyle='solid') \n",
    "    plt.gcf().autofmt_xdate() # formats the bottom axis\n",
    "\n",
    "    plt.tight_layout()\n",
    "    plt.title(stockCode)\n",
    "    plt.xlabel(\"Dates\")\n",
    "    plt.ylabel(\"Closing Price\")\n"
   ]
  },
  {
   "cell_type": "markdown",
   "metadata": {},
   "source": [
    "## Get Average Price of Stock"
   ]
  },
  {
   "cell_type": "code",
   "execution_count": 314,
   "metadata": {
    "tags": []
   },
   "outputs": [],
   "source": [
    "def getAveragePrice(stockCode, start, stop):\n",
    "  \n",
    "    if((start == \" \")|(stop == \" \")):\n",
    "        return 0\n",
    "    #init\n",
    "    startDate = pd.to_datetime(start)\n",
    "    stopDate = pd.to_datetime(stop)\n",
    "    \n",
    "    data = stocks.loc[(stockCode)] #finding all indexes that match the provided stockcode in the stocks dataframe\n",
    "    data = data.loc[(data.Date >= startDate) & (data.Date <= stopDate)]\n",
    "    \n",
    "    data.dropna()\n",
    "    sumS = 0\n",
    "    for row,rowSeries in data.iterrows():\n",
    "        sumS += rowSeries[\"Close\"]\n",
    "        \n",
    "    return sumS/len(data[\"Date\"])"
   ]
  },
  {
   "cell_type": "markdown",
   "metadata": {},
   "source": [
    "## Final Table Output"
   ]
  },
  {
   "cell_type": "code",
   "execution_count": 365,
   "metadata": {},
   "outputs": [
    {
     "data": {
      "text/html": [
       "<div>\n",
       "<style scoped>\n",
       "    .dataframe tbody tr th:only-of-type {\n",
       "        vertical-align: middle;\n",
       "    }\n",
       "\n",
       "    .dataframe tbody tr th {\n",
       "        vertical-align: top;\n",
       "    }\n",
       "\n",
       "    .dataframe thead th {\n",
       "        text-align: right;\n",
       "    }\n",
       "</style>\n",
       "<table border=\"1\" class=\"dataframe\">\n",
       "  <thead>\n",
       "    <tr style=\"text-align: right;\">\n",
       "      <th></th>\n",
       "      <th>Average Price</th>\n",
       "      <th>Standard Deviation</th>\n",
       "      <th>Standardized Standard Deviation</th>\n",
       "      <th>Percentage Volatility Measure</th>\n",
       "      <th>Average True Range (ATR)</th>\n",
       "      <th>Beta Coefficent</th>\n",
       "      <th>Daily Increases (5 Min)</th>\n",
       "      <th>Daily Decreases (5 Min)</th>\n",
       "      <th>Increases in Time Period(Daily)</th>\n",
       "      <th>Decreases in Time Period(Daily)</th>\n",
       "      <th>Daily Difference</th>\n",
       "      <th>Time Period Difference</th>\n",
       "    </tr>\n",
       "    <tr>\n",
       "      <th>Stock</th>\n",
       "      <th></th>\n",
       "      <th></th>\n",
       "      <th></th>\n",
       "      <th></th>\n",
       "      <th></th>\n",
       "      <th></th>\n",
       "      <th></th>\n",
       "      <th></th>\n",
       "      <th></th>\n",
       "      <th></th>\n",
       "      <th></th>\n",
       "      <th></th>\n",
       "    </tr>\n",
       "  </thead>\n",
       "  <tbody>\n",
       "    <tr>\n",
       "      <th>AAPL</th>\n",
       "      <td>47.893367</td>\n",
       "      <td>6.604836</td>\n",
       "      <td>0.137907</td>\n",
       "      <td>0.020658</td>\n",
       "      <td>3.081214</td>\n",
       "      <td>-0.229795</td>\n",
       "      <td>58</td>\n",
       "      <td>42</td>\n",
       "      <td>68</td>\n",
       "      <td>56</td>\n",
       "      <td>16</td>\n",
       "      <td>12</td>\n",
       "    </tr>\n",
       "    <tr>\n",
       "      <th>AMC</th>\n",
       "      <td>12.957500</td>\n",
       "      <td>2.174745</td>\n",
       "      <td>0.167837</td>\n",
       "      <td>0.073771</td>\n",
       "      <td>2.862300</td>\n",
       "      <td>-0.125872</td>\n",
       "      <td>39</td>\n",
       "      <td>61</td>\n",
       "      <td>59</td>\n",
       "      <td>65</td>\n",
       "      <td>-22</td>\n",
       "      <td>-6</td>\n",
       "    </tr>\n",
       "    <tr>\n",
       "      <th>AMZN</th>\n",
       "      <td>1775.580807</td>\n",
       "      <td>107.357487</td>\n",
       "      <td>0.060463</td>\n",
       "      <td>0.022098</td>\n",
       "      <td>75.576643</td>\n",
       "      <td>0.438108</td>\n",
       "      <td>55</td>\n",
       "      <td>45</td>\n",
       "      <td>64</td>\n",
       "      <td>60</td>\n",
       "      <td>10</td>\n",
       "      <td>4</td>\n",
       "    </tr>\n",
       "    <tr>\n",
       "      <th>AAL</th>\n",
       "      <td>32.040242</td>\n",
       "      <td>2.754684</td>\n",
       "      <td>0.085976</td>\n",
       "      <td>0.035355</td>\n",
       "      <td>0.701800</td>\n",
       "      <td>0.067396</td>\n",
       "      <td>59</td>\n",
       "      <td>41</td>\n",
       "      <td>62</td>\n",
       "      <td>62</td>\n",
       "      <td>18</td>\n",
       "      <td>0</td>\n",
       "    </tr>\n",
       "    <tr>\n",
       "      <th>FB</th>\n",
       "      <td>175.038225</td>\n",
       "      <td>16.196244</td>\n",
       "      <td>0.092530</td>\n",
       "      <td>0.027720</td>\n",
       "      <td>9.061650</td>\n",
       "      <td>0.173181</td>\n",
       "      <td>57</td>\n",
       "      <td>43</td>\n",
       "      <td>67</td>\n",
       "      <td>57</td>\n",
       "      <td>14</td>\n",
       "      <td>10</td>\n",
       "    </tr>\n",
       "  </tbody>\n",
       "</table>\n",
       "</div>"
      ],
      "text/plain": [
       "       Average Price  Standard Deviation  Standardized Standard Deviation  \\\n",
       "Stock                                                                       \n",
       "AAPL       47.893367            6.604836                         0.137907   \n",
       "AMC        12.957500            2.174745                         0.167837   \n",
       "AMZN     1775.580807          107.357487                         0.060463   \n",
       "AAL        32.040242            2.754684                         0.085976   \n",
       "FB        175.038225           16.196244                         0.092530   \n",
       "\n",
       "       Percentage Volatility Measure  Average True Range (ATR)  \\\n",
       "Stock                                                            \n",
       "AAPL                        0.020658                  3.081214   \n",
       "AMC                         0.073771                  2.862300   \n",
       "AMZN                        0.022098                 75.576643   \n",
       "AAL                         0.035355                  0.701800   \n",
       "FB                          0.027720                  9.061650   \n",
       "\n",
       "       Beta Coefficent  Daily Increases (5 Min)  Daily Decreases (5 Min)  \\\n",
       "Stock                                                                      \n",
       "AAPL         -0.229795                       58                       42   \n",
       "AMC          -0.125872                       39                       61   \n",
       "AMZN          0.438108                       55                       45   \n",
       "AAL           0.067396                       59                       41   \n",
       "FB            0.173181                       57                       43   \n",
       "\n",
       "       Increases in Time Period(Daily)  Decreases in Time Period(Daily)  \\\n",
       "Stock                                                                     \n",
       "AAPL                                68                               56   \n",
       "AMC                                 59                               65   \n",
       "AMZN                                64                               60   \n",
       "AAL                                 62                               62   \n",
       "FB                                  67                               57   \n",
       "\n",
       "       Daily Difference  Time Period Difference  \n",
       "Stock                                            \n",
       "AAPL                 16                      12  \n",
       "AMC                 -22                      -6  \n",
       "AMZN                 10                       4  \n",
       "AAL                  18                       0  \n",
       "FB                   14                      10  "
      ]
     },
     "execution_count": 365,
     "metadata": {},
     "output_type": "execute_result"
    }
   ],
   "source": [
    "stockListB = [\"AAPL\", \"AMC\",\"AMZN\",\"AAL\",\"FB\"]\n",
    "def createTable(stockCList, start, stop):\n",
    "    stockList = stockCList\n",
    "    \n",
    "    \"\"\"\n",
    "    What it Does : Creates final table used to analyze volatility\n",
    "    Inputs:\n",
    "        Stock list: list of stocks\n",
    "        Start : start date\n",
    "        Stop : stop date\n",
    "    Output : the final dataframe\n",
    "    \n",
    "    \"\"\"\n",
    "    \n",
    "    finalData = {'Stock': [], 'Average Price': [], 'Standard Deviation': [], 'Standardized Standard Deviation': [], 'Percentage Volatility Measure': [], 'Average True Range (ATR)': [], 'Beta Coefficent': [],\n",
    "                 \"Daily Increases (5 Min)\" : [], \"Daily Decreases (5 Min)\" : [], \"Increases in Time Period(Daily)\":[], \"Decreases in Time Period(Daily)\":[], \"Daily Difference\": [], \"Time Period Difference\": []}\n",
    "    for stockCode in stockList:\n",
    "        avPrice = getAveragePrice(stockCode, start, stop)\n",
    "        standDev = stockStd(stockCode, start, stop)\n",
    "        adjStd = stockStd(stockCode, start, stop)/getAveragePrice(stockCode, start, stop) #This is here because standard deviation is respective to price. Therefore we divide it by the price so it is comparable to all the stocks.\n",
    "        percentVol = PVM(stockCode)\n",
    "        percentageGrowth = getReturn(stockCode, start, stop)[2]\n",
    "        stockATR = ATR(stockCode)\n",
    "        stockBeta = Beta(stockCode, start,stop)\n",
    "        dailyInc = dailyV(stockCode)[1]\n",
    "        dailyDec = dailyV(stockCode)[2]\n",
    "        dailyDiff = dailyV(stockCode)[3]\n",
    "        timePInc = timePeriodV(stockCode, start, stop)[2]\n",
    "        timePDec = timePeriodV(stockCode, start, stop)[3]\n",
    "        timePDiff = timePeriodV(stockCode, start, stop)[4]\n",
    "        finalData['Stock'].append(stockCode)\n",
    "        finalData['Average Price'].append(avPrice)\n",
    "        finalData['Standard Deviation'].append(standDev)\n",
    "        finalData['Standardized Standard Deviation'].append(adjStd)\n",
    "        finalData['Percentage Volatility Measure'].append(percentVol)\n",
    "        finalData['Average True Range (ATR)'].append(stockATR)\n",
    "        finalData['Beta Coefficent'].append(stockBeta)\n",
    "        finalData['Daily Increases (5 Min)'].append(dailyInc)\n",
    "        finalData['Daily Decreases (5 Min)'].append(dailyDec)\n",
    "        finalData['Increases in Time Period(Daily)'].append(timePInc)\n",
    "        finalData['Decreases in Time Period(Daily)'].append(timePDec)\n",
    "        finalData['Daily Difference'].append(dailyDiff)\n",
    "        finalData['Time Period Difference'].append(timePDiff)\n",
    "\n",
    "        \n",
    "        #mainDf[stockCode] = [avPrice, standDev,percentVol, stockATR, stockBeta]\n",
    "    finalDf = pd.DataFrame(finalData)\n",
    "    finalDf = finalDf.set_index(\"Stock\")\n",
    "    return(finalDf)\n",
    "   # columns = [\"Code\", \"Standard Deviation\", \"Percent Volatility\", \"ATR\", \"Beta\"]\n",
    "   # df = pd.DataFrame(mainDf, columns)        \n",
    "    #partB = pd.DataFrame(partC, columns = \"Stock Code\", \"5 Min Volatility\", \"Average Growth Per 5 Min\"])\n",
    "        \n",
    "   \n",
    "finalData = createTable(stockListB, \"01-01-2019\",\"07-01-2019\")\n",
    "desc = finalData.describe()\n",
    "finalData"
   ]
  },
  {
   "cell_type": "markdown",
   "metadata": {},
   "source": [
    "## Evaluating The Safest Stock\n",
    "\n",
    "Variables that Decide the Least Volatile Stock:\n",
    "\n",
    "1. **Standardized Standard Deviation** : The standard deviation adjusted for average price. The lower the Standardized Standard Deviation, the lower the volatility of the stock \n",
    "    Amazon won this category\n",
    "2. **PVM**: The lower the PVM, the lower the volatility of the stock\n",
    "    Apple won this category\n",
    "3. **Beta**: The closer the beta of the stock is to 1, the more correlated the stock is with the entire market, therefore the stock is more reliable with a beta value closer to 1.\n",
    "    American Airlines won this category\n",
    "4. **Daily Difference**: number stock price of increases - number of stock price decreases, over 5 minute periods of the most recent day. The further the daily difference is from zero, the less volatile the stock. This is important because day trading has become such a big investment strategy, and if the stock is incredibly volatile during the day, it isn't a good stock to day trade.\n",
    "    Apple won this category\n",
    "5. **Time Period Difference**: number stock price of increases - number of stock price decreases, over the specified time                      period. The further the time period difference is from zero, the less volatile the stock. \n",
    "    Amazon won this category"
   ]
  },
  {
   "cell_type": "code",
   "execution_count": 346,
   "metadata": {},
   "outputs": [
    {
     "name": "stdout",
     "output_type": "stream",
     "text": [
      "['AMZN', 'AAPL', 'AAL', 'AAPL', 'AMZN']\n",
      "[('AMZN', 2)]\n"
     ]
    }
   ],
   "source": [
    "winnerList = []\n",
    "\n",
    "#here, we get the minimum and max values from the desc dataframe and then find the index which gives us the stock code\n",
    "minStd = desc.loc['min','Standardized Standard Deviation'] #finding the index value (stockCode) of the minimum value for std dev\n",
    "winnerList.append((finalData[finalData['Standardized Standard Deviation']== minStd].index.values)[0])\n",
    "\n",
    "minPVM = desc.loc['min','Percentage Volatility Measure']\n",
    "winnerList.append((finalData[finalData['Percentage Volatility Measure']== minPVM].index.values)[0])\n",
    "\n",
    "maxDailyDiff = desc.loc['max', 'Daily Difference']\n",
    "winnerList.append((finalData[finalData['Daily Difference']== maxDailyDiff].index.values)[0])\n",
    "\n",
    "maxTimePeriodDiff = desc.loc['max', 'Time Period Difference']\n",
    "winnerList.append((finalData[finalData['Time Period Difference']== maxTimePeriodDiff].index.values)[0])\n",
    "\n",
    "BetaLessThanOne = [x for x in finalData['Beta Coefficent'] if x < 5]\n",
    "winnerList.append((finalData[finalData['Beta Coefficent']== max(BetaLessThanOne)].index.values)[0])\n",
    "\n",
    "#finding the most occuring stock\n",
    "from collections import Counter\n",
    "c = Counter(winnerList)\n",
    "print(winnerList)\n",
    "print(c.most_common(1))"
   ]
  },
  {
   "cell_type": "markdown",
   "metadata": {},
   "source": [
    "# Conclusion \n",
    "\n",
    "So, as you can on the day we evaluated the stocks, Apple and Amazon were tied for the most statistics for which their value's meaning meant they were the least volatile with 2 each. \n",
    "\n",
    "We can also visualize these from the graphs of the two stocks below."
   ]
  },
  {
   "cell_type": "markdown",
   "metadata": {},
   "source": [
    " As you can see, other than big recessions, both Apple and Amazon had consistent growth without many massive up and downs."
   ]
  },
  {
   "cell_type": "code",
   "execution_count": 340,
   "metadata": {},
   "outputs": [
    {
     "data": {
      "image/png": "[encoded data removed]",
      "text/plain": [
       "<Figure size 432x288 with 1 Axes>"
      ]
     },
     "metadata": {
      "needs_background": "light"
     },
     "output_type": "display_data"
    }
   ],
   "source": [
    "priceGraph(\"AAPL\", startDateMain, stopDateMain)"
   ]
  },
  {
   "cell_type": "code",
   "execution_count": 341,
   "metadata": {},
   "outputs": [
    {
     "data": {
      "image/png": "[encoded data removed]",
      "text/plain": [
       "<Figure size 432x288 with 1 Axes>"
      ]
     },
     "metadata": {
      "needs_background": "light"
     },
     "output_type": "display_data"
    }
   ],
   "source": [
    "priceGraph(\"AMZN\", startDateMain, stopDateMain)"
   ]
  },
  {
   "cell_type": "markdown",
   "metadata": {},
   "source": [
    "On the other hand, stocks like AMC, even though they have high growth, are not volatile. The spike in AMC in 2021 is because of Elon Musk tweeted about it **(Blatant Market Manipulation)**"
   ]
  },
  {
   "cell_type": "code",
   "execution_count": 343,
   "metadata": {},
   "outputs": [
    {
     "data": {
      "image/png": "[encoded data removed]",
      "text/plain": [
       "<Figure size 432x288 with 1 Axes>"
      ]
     },
     "metadata": {
      "needs_background": "light"
     },
     "output_type": "display_data"
    }
   ],
   "source": [
    "priceGraph(\"AMC\", startDateMain, stopDateMain)"
   ]
  },
  {
   "cell_type": "markdown",
   "metadata": {},
   "source": [
    "## Execution\n",
    "\n",
    "Because the stocks are the least volatile, they are more likely to be more stable in the future. \n",
    "\n",
    "**Because of this, we decided to invest money in Amazon and Apple**"
   ]
  },
  {
   "cell_type": "markdown",
   "metadata": {},
   "source": [
    "![title](apple.png)\n",
    "![title](amazon.png)"
   ]
  },
  {
   "cell_type": "code",
   "execution_count": null,
   "metadata": {},
   "outputs": [],
   "source": []
  }
 ],
 "metadata": {
  "kernelspec": {
   "display_name": "Python 3",
   "language": "python",
   "name": "python3"
  },
  "language_info": {
   "codemirror_mode": {
    "name": "ipython",
    "version": 3
   },
   "file_extension": ".py",
   "mimetype": "text/x-python",
   "name": "python",
   "nbconvert_exporter": "python",
   "pygments_lexer": "ipython3",
   "version": "3.8.8"
  }
 },
 "nbformat": 4,
 "nbformat_minor": 4
}
